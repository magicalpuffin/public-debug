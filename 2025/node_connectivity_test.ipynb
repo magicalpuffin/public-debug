{
 "cells": [
  {
   "cell_type": "code",
   "execution_count": 1,
   "metadata": {},
   "outputs": [],
   "source": [
    "import numpy as np\n"
   ]
  },
  {
   "cell_type": "code",
   "execution_count": 2,
   "metadata": {},
   "outputs": [],
   "source": [
    "nodes = np.array(\n",
    "    [\n",
    "        [1, 1, 0, 0, 0],\n",
    "        [0, 1, 0, 1, 0],\n",
    "        [1, 0, 1, 0, 0],\n",
    "        [0, 0, 0, 1, 1],\n",
    "        [0, 0, 0, 0, 1],\n",
    "    ],\n",
    "    dtype=int,\n",
    ")"
   ]
  },
  {
   "cell_type": "code",
   "execution_count": 3,
   "metadata": {},
   "outputs": [],
   "source": [
    "def connected_nodes(start: int, visited: list[int] = [], connected: list[int] = []):\n",
    "    visited.append(start)\n",
    "    connected = []\n",
    "    for i, v in enumerate(nodes[start]):\n",
    "        if v == 1:\n",
    "            connected.append(i)\n",
    "            if i not in visited:\n",
    "                new_visited, new_connected = connected_nodes(i, visited)\n",
    "                visited = list(set(visited + new_visited))\n",
    "    return visited, connected\n",
    "\n",
    "\n",
    "def node_is_connected(start: int, end: int):\n",
    "    return end in connected_nodes(start, [], [])[0]"
   ]
  },
  {
   "cell_type": "code",
   "execution_count": 4,
   "metadata": {},
   "outputs": [
    {
     "data": {
      "text/plain": [
       "([0, 1, 3, 4], [0, 1])"
      ]
     },
     "execution_count": 4,
     "metadata": {},
     "output_type": "execute_result"
    }
   ],
   "source": [
    "connected_nodes(0, [], [])"
   ]
  },
  {
   "cell_type": "code",
   "execution_count": 5,
   "metadata": {},
   "outputs": [
    {
     "data": {
      "text/plain": [
       "False"
      ]
     },
     "execution_count": 5,
     "metadata": {},
     "output_type": "execute_result"
    }
   ],
   "source": [
    "node_is_connected(0, 2)"
   ]
  }
 ],
 "metadata": {
  "kernelspec": {
   "display_name": ".venv",
   "language": "python",
   "name": "python3"
  },
  "language_info": {
   "codemirror_mode": {
    "name": "ipython",
    "version": 3
   },
   "file_extension": ".py",
   "mimetype": "text/x-python",
   "name": "python",
   "nbconvert_exporter": "python",
   "pygments_lexer": "ipython3",
   "version": "3.13.2"
  }
 },
 "nbformat": 4,
 "nbformat_minor": 2
}
